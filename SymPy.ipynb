{
 "cells": [
  {
   "cell_type": "code",
   "execution_count": 1,
   "metadata": {},
   "outputs": [],
   "source": [
    "import sympy"
   ]
  },
  {
   "cell_type": "code",
   "execution_count": 2,
   "metadata": {},
   "outputs": [
    {
     "name": "stdout",
     "output_type": "stream",
     "text": [
      "3*x**2 + 1\n",
      "2*x\n"
     ]
    }
   ],
   "source": [
    "# calculate differential coefficient of x(only one variable)\n",
    "x = sympy.Symbol(\"x\")\n",
    "\n",
    "# two formal of diff\n",
    "print(sympy.diff(x ** 3 + x, x))\n",
    "print((x ** 2).diff())"
   ]
  },
  {
   "cell_type": "code",
   "execution_count": 3,
   "metadata": {},
   "outputs": [
    {
     "name": "stdout",
     "output_type": "stream",
     "text": [
      "3*x1**2 + x2\n",
      "x1 + 1\n"
     ]
    }
   ],
   "source": [
    "# calculate differential coefficent of x1, x2(multi variable)\n",
    "x1 = sympy.Symbol(\"x1\")\n",
    "x2 = sympy.Symbol(\"x2\")\n",
    "\n",
    "y = x1 ** 3 + x1 * x2 + x2\n",
    "\n",
    "print(sympy.diff(y, x1))\n",
    "print(sympy.diff(y, x2))"
   ]
  },
  {
   "cell_type": "code",
   "execution_count": 5,
   "metadata": {},
   "outputs": [
    {
     "name": "stdout",
     "output_type": "stream",
     "text": [
      "109.000000000000\n"
     ]
    }
   ],
   "source": [
    "def sympy_derivative():\n",
    "    x = sympy.symbols('x')\n",
    "    y = x ** 3 + x\n",
    "    return sympy.diff(y, x)\n",
    "\n",
    "# func is differential coefficent of function[x ** 3 + x]\n",
    "func = sympy_derivative()\n",
    "\n",
    "# Results of print is func value when x equals 6\n",
    "print(func.evalf(subs = {'x' : 6}))"
   ]
  },
  {
   "cell_type": "code",
   "execution_count": 8,
   "metadata": {},
   "outputs": [
    {
     "name": "stdout",
     "output_type": "stream",
     "text": [
      "3*x1**2 + 2*x1*x2 + x2**2 + 1\n",
      "x1**2 + 2*x1*x2 + 1\n",
      "217.000000000000\n",
      "109.000000000000\n"
     ]
    }
   ],
   "source": [
    "# a more complex example\n",
    "def sympy_derivative_multi():\n",
    "    x1 = sympy.symbols('x1')\n",
    "    x2 = sympy.symbols('x2')\n",
    "    y = x1 ** 3 + x1 ** 2 * x2 + x1 * x2 ** 2 + x1 + x2 + 1\n",
    "    return sympy.diff(y, x1), sympy.diff(y, x2)\n",
    "\n",
    "func_multix1, func_multix2 = sympy_derivative_multi()\n",
    "print(func_multix1)\n",
    "print(func_multix2)\n",
    "\n",
    "print(func_multix1.evalf(subs = {'x1' : 6, 'x2' : 6}))\n",
    "print(func_multix2.evalf(subs = {'x1' : 6, 'x2' : 6}))"
   ]
  }
 ],
 "metadata": {
  "kernelspec": {
   "display_name": "deeplearn",
   "language": "python",
   "name": "python3"
  },
  "language_info": {
   "codemirror_mode": {
    "name": "ipython",
    "version": 3
   },
   "file_extension": ".py",
   "mimetype": "text/x-python",
   "name": "python",
   "nbconvert_exporter": "python",
   "pygments_lexer": "ipython3",
   "version": "3.9.13"
  },
  "orig_nbformat": 4
 },
 "nbformat": 4,
 "nbformat_minor": 2
}
