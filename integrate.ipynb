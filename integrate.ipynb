{
 "cells": [
  {
   "cell_type": "code",
   "execution_count": 1,
   "metadata": {},
   "outputs": [],
   "source": [
    "import sympy\n",
    "import math"
   ]
  },
  {
   "cell_type": "code",
   "execution_count": 10,
   "metadata": {},
   "outputs": [
    {
     "name": "stdout",
     "output_type": "stream",
     "text": [
      "7/3\n"
     ]
    }
   ],
   "source": [
    "x = sympy.symbols(\"x\")\n",
    "y = sympy.symbols(\"y\")\n",
    "print(sympy.integrate(x ** 2, (x, 1, 2)))"
   ]
  },
  {
   "cell_type": "code",
   "execution_count": 13,
   "metadata": {},
   "outputs": [
    {
     "name": "stdout",
     "output_type": "stream",
     "text": [
      "pi*r**2\n",
      "2*pi*r**3\n"
     ]
    }
   ],
   "source": [
    "r = sympy.symbols('r', positive = True)\n",
    "circle_area = 2 * sympy.integrate(sympy.sqrt(r ** 2 - x ** 2), (x, -r, r))\n",
    "'''\n",
    "There is something run with the code on book\n",
    "we can not use math package to create function sqrt in sympy\n",
    "It will trigger TypeError: Cannot convert expression to float\n",
    "'''\n",
    "\n",
    "print(circle_area)\n",
    "print(sympy.integrate(circle_area, (x, -r, r)))\n",
    "'''\n",
    "There is something run with this Integrate\n",
    "I still cant found error\n",
    "'''"
   ]
  },
  {
   "cell_type": "code",
   "execution_count": 19,
   "metadata": {},
   "outputs": [
    {
     "name": "stdout",
     "output_type": "stream",
     "text": [
      "Double integration results:  0.6666666666666667\n",
      "Trible Integration Result:  4.5\n"
     ]
    }
   ],
   "source": [
    "from scipy import integrate\n",
    "f = lambda y, x : x * y ** 2\n",
    "val1, err1 = integrate.dblquad(f,            # function\n",
    "                               0,            # x min 0\n",
    "                               2,            # x max 2\n",
    "                               lambda x : 0, # y min 0\n",
    "                               lambda x : 1) # y max 1\n",
    "\n",
    "print('Double integration results: ', val1)\n",
    "\n",
    "f1 = lambda z, y, x : x * y * z\n",
    "val1, err2 = integrate.tplquad(f1,\n",
    "                               0,\n",
    "                               3,\n",
    "                               lambda x : 0,\n",
    "                               lambda x : 2,\n",
    "                               lambda x, y : 0,\n",
    "                               lambda x, y : 1)\n",
    "\n",
    "print('Trible Integration Result: ', val1)"
   ]
  }
 ],
 "metadata": {
  "kernelspec": {
   "display_name": "deeplearn",
   "language": "python",
   "name": "python3"
  },
  "language_info": {
   "codemirror_mode": {
    "name": "ipython",
    "version": 3
   },
   "file_extension": ".py",
   "mimetype": "text/x-python",
   "name": "python",
   "nbconvert_exporter": "python",
   "pygments_lexer": "ipython3",
   "version": "3.9.13"
  },
  "orig_nbformat": 4
 },
 "nbformat": 4,
 "nbformat_minor": 2
}
